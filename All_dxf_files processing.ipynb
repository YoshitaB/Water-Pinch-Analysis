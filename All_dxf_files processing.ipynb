{
 "cells": [
  {
   "cell_type": "code",
   "execution_count": 1,
   "id": "49f9b73e-989a-4bae-bc38-80cccab71283",
   "metadata": {},
   "outputs": [],
   "source": [
    "import re\n",
    "import ezdxf\n",
    "import pandas as pd\n",
    "from pathlib import Path"
   ]
  },
  {
   "cell_type": "code",
   "execution_count": 2,
   "id": "efc368dc-9a89-4bba-b742-4bb2d44c2c6f",
   "metadata": {},
   "outputs": [],
   "source": [
    "# 👉 Change this to your folder containing DXF files\n",
    "input_folder = Path(\"../DXF format P&IDs\")"
   ]
  },
  {
   "cell_type": "code",
   "execution_count": 3,
   "id": "1e428767-28c3-4c9d-a724-04a0f6195e41",
   "metadata": {},
   "outputs": [],
   "source": [
    "hex_equip_pattern = re.compile(r\".*-E-.*\", re.IGNORECASE)   # equipment IDs\n",
    "loop_pattern = re.compile(r\"^[A-Z]\\d+|W\\d+\", re.IGNORECASE) # loop IDs like W052, F050\n",
    "\n",
    "records = []"
   ]
  },
  {
   "cell_type": "code",
   "execution_count": 4,
   "id": "2c5714cf-1970-4a7b-9c67-a646d38dbbbf",
   "metadata": {},
   "outputs": [
    {
     "name": "stdout",
     "output_type": "stream",
     "text": [
      "Processing ..\\DXF format P&IDs\\973011011C.dxf...\n",
      "Processing ..\\DXF format P&IDs\\973011021C.dxf...\n",
      "Processing ..\\DXF format P&IDs\\973011031C.dxf...\n",
      "Processing ..\\DXF format P&IDs\\973011111C.dxf...\n",
      "Processing ..\\DXF format P&IDs\\973011121C.dxf...\n",
      "Processing ..\\DXF format P&IDs\\973011171C.dxf...\n",
      "Processing ..\\DXF format P&IDs\\973011181C.dxf...\n",
      "Processing ..\\DXF format P&IDs\\973011201C.dxf...\n",
      "Processing ..\\DXF format P&IDs\\973011211C.dxf...\n",
      "Processing ..\\DXF format P&IDs\\973011221C.dxf...\n",
      "Processing ..\\DXF format P&IDs\\973011231C.dxf...\n",
      "Processing ..\\DXF format P&IDs\\973011241C.dxf...\n",
      "Processing ..\\DXF format P&IDs\\973011251C.dxf...\n",
      "Processing ..\\DXF format P&IDs\\973011261C.dxf...\n",
      "Processing ..\\DXF format P&IDs\\973011301C.dxf...\n",
      "Processing ..\\DXF format P&IDs\\973011311C.dxf...\n",
      "Processing ..\\DXF format P&IDs\\973011321C.dxf...\n",
      "Processing ..\\DXF format P&IDs\\973011331C.dxf...\n",
      "Processing ..\\DXF format P&IDs\\973011341C.dxf...\n",
      "Processing ..\\DXF format P&IDs\\973011411C.dxf...\n",
      "Processing ..\\DXF format P&IDs\\973011421C.dxf...\n",
      "Processing ..\\DXF format P&IDs\\973011431C.dxf...\n",
      "Processing ..\\DXF format P&IDs\\973011521C.dxf...\n",
      "Processing ..\\DXF format P&IDs\\973011531C.dxf...\n",
      "Processing ..\\DXF format P&IDs\\973011541C.dxf...\n",
      "Processing ..\\DXF format P&IDs\\973011551C.dxf...\n",
      "Processing ..\\DXF format P&IDs\\973011571C.dxf...\n",
      "Processing ..\\DXF format P&IDs\\973011581C.dxf...\n",
      "Processing ..\\DXF format P&IDs\\973011591C.dxf...\n",
      "Processing ..\\DXF format P&IDs\\973011631C.dxf...\n",
      "Processing ..\\DXF format P&IDs\\973011641C.dxf...\n",
      "Processing ..\\DXF format P&IDs\\973011711C.dxf...\n",
      "Processing ..\\DXF format P&IDs\\973011721C.dxf...\n",
      "Processing ..\\DXF format P&IDs\\973011731C.dxf...\n",
      "Processing ..\\DXF format P&IDs\\973011741C.dxf...\n",
      "Processing ..\\DXF format P&IDs\\973011751C.dxf...\n",
      "Processing ..\\DXF format P&IDs\\973011811C.dxf...\n",
      "Processing ..\\DXF format P&IDs\\973011821C.dxf...\n",
      "Processing ..\\DXF format P&IDs\\973011831C.dxf...\n",
      "Processing ..\\DXF format P&IDs\\973011841C.dxf...\n",
      "Processing ..\\DXF format P&IDs\\973011851C.dxf...\n",
      "Processing ..\\DXF format P&IDs\\973011861C.dxf...\n",
      "Processing ..\\DXF format P&IDs\\973011871C.dxf...\n",
      "Processing ..\\DXF format P&IDs\\973011881C.dxf...\n",
      "Processing ..\\DXF format P&IDs\\973011931C.dxf...\n",
      "Processing ..\\DXF format P&IDs\\973011941C.dxf...\n",
      "Processing ..\\DXF format P&IDs\\973011951C.dxf...\n",
      "Processing ..\\DXF format P&IDs\\973011981C.dxf...\n"
     ]
    }
   ],
   "source": [
    "for dxf_file in input_folder.glob(\"*.dxf\"):\n",
    "    print(f\"Processing {dxf_file}...\")\n",
    "    try:\n",
    "        doc = ezdxf.readfile(dxf_file)\n",
    "    except Exception as e:\n",
    "        print(f\"❌ Failed to read {dxf_file}: {e}\")\n",
    "        continue\n",
    "    \n",
    "    msp = doc.modelspace()\n",
    "    \n",
    "    for block in msp.query(\"INSERT\"):\n",
    "        tags = [att.dxf.text.strip() for att in block.attribs if att.dxf.text.strip()]\n",
    "        equip_ids = [t for t in tags if hex_equip_pattern.match(t)]\n",
    "        loop_ids  = [t for t in tags if loop_pattern.match(t) and not hex_equip_pattern.match(t)]\n",
    "        descs     = [t for t in tags if not hex_equip_pattern.match(t) and not loop_pattern.match(t)]\n",
    "        \n",
    "        if equip_ids:\n",
    "            records.append({\n",
    "                \"File\": dxf_file.name,\n",
    "                \"Equipment ID\": \", \".join(set(equip_ids)),\n",
    "                \"Loop/Stream ID\": \", \".join(set(loop_ids)) if loop_ids else None,\n",
    "                \"Description\": \", \".join(set(descs)) if descs else None,\n",
    "                \"Location\": tuple(round(c,2) for c in block.dxf.insert)\n",
    "            })\n",
    "\n",
    "df = pd.DataFrame(records)"
   ]
  },
  {
   "cell_type": "code",
   "execution_count": 5,
   "id": "21e9b428-3775-48ba-a045-ca2c6802159e",
   "metadata": {},
   "outputs": [
    {
     "data": {
      "text/html": [
       "<div>\n",
       "<style scoped>\n",
       "    .dataframe tbody tr th:only-of-type {\n",
       "        vertical-align: middle;\n",
       "    }\n",
       "\n",
       "    .dataframe tbody tr th {\n",
       "        vertical-align: top;\n",
       "    }\n",
       "\n",
       "    .dataframe thead th {\n",
       "        text-align: right;\n",
       "    }\n",
       "</style>\n",
       "<table border=\"1\" class=\"dataframe\">\n",
       "  <thead>\n",
       "    <tr style=\"text-align: right;\">\n",
       "      <th></th>\n",
       "      <th>File</th>\n",
       "      <th>Equipment ID</th>\n",
       "      <th>Loop/Stream ID</th>\n",
       "      <th>Description</th>\n",
       "      <th>Location</th>\n",
       "    </tr>\n",
       "  </thead>\n",
       "  <tbody>\n",
       "    <tr>\n",
       "      <th>0</th>\n",
       "      <td>973011021C.dxf</td>\n",
       "      <td>021-E-1</td>\n",
       "      <td>None</td>\n",
       "      <td>021</td>\n",
       "      <td>(42.0, 468.0, 0.0)</td>\n",
       "    </tr>\n",
       "    <tr>\n",
       "      <th>1</th>\n",
       "      <td>973011111C.dxf</td>\n",
       "      <td>111-E-15</td>\n",
       "      <td>P003</td>\n",
       "      <td>WATER WASH PUMP, IN, Z, BMS, OUT, 111, HEAD, 6...</td>\n",
       "      <td>(516.0, 141.0, 0.0)</td>\n",
       "    </tr>\n",
       "    <tr>\n",
       "      <th>2</th>\n",
       "      <td>973011111C.dxf</td>\n",
       "      <td>973011111-E-16</td>\n",
       "      <td>T001</td>\n",
       "      <td>OF_LEVEL, TOPT, CONS, 973011111, DIAM, FEEDWAT...</td>\n",
       "      <td>(306.0, 234.0, 0.0)</td>\n",
       "    </tr>\n",
       "    <tr>\n",
       "      <th>3</th>\n",
       "      <td>973011111C.dxf</td>\n",
       "      <td>973011111-E-17</td>\n",
       "      <td>M002</td>\n",
       "      <td>973011111, 6B, DAERATOR, 111</td>\n",
       "      <td>(417.0, 294.0, 0.0)</td>\n",
       "    </tr>\n",
       "    <tr>\n",
       "      <th>4</th>\n",
       "      <td>973011111C.dxf</td>\n",
       "      <td>973011111-E-18</td>\n",
       "      <td>P003-M01</td>\n",
       "      <td>WATER WASH PUMP, 973011111, 111, 6B</td>\n",
       "      <td>(474.0, 138.0, 0.0)</td>\n",
       "    </tr>\n",
       "    <tr>\n",
       "      <th>5</th>\n",
       "      <td>973011121C.dxf</td>\n",
       "      <td>021-E-12</td>\n",
       "      <td>W006</td>\n",
       "      <td>121, 6B, DESUPERHEATER, 021</td>\n",
       "      <td>(248.48, 474.38, 0.0)</td>\n",
       "    </tr>\n",
       "    <tr>\n",
       "      <th>6</th>\n",
       "      <td>973011121C.dxf</td>\n",
       "      <td>973011121A-E-18</td>\n",
       "      <td>None</td>\n",
       "      <td>973011121A, FW VALVE TURBINE PUMP, 6B-HV-1205</td>\n",
       "      <td>(383.36, 129.44, 0.0)</td>\n",
       "    </tr>\n",
       "    <tr>\n",
       "      <th>7</th>\n",
       "      <td>973011121C.dxf</td>\n",
       "      <td>973011121A-E-19</td>\n",
       "      <td>None</td>\n",
       "      <td>973011121A, FW VALVE TURBINE PUMP, 6B-HV-1205-...</td>\n",
       "      <td>(315.0, 90.0, 0.0)</td>\n",
       "    </tr>\n",
       "    <tr>\n",
       "      <th>8</th>\n",
       "      <td>973011121C.dxf</td>\n",
       "      <td>973011121A-E-20</td>\n",
       "      <td>None</td>\n",
       "      <td>973011121A, 6B-HV-1215</td>\n",
       "      <td>(393.0, 159.0, 0.0)</td>\n",
       "    </tr>\n",
       "    <tr>\n",
       "      <th>9</th>\n",
       "      <td>973011121C.dxf</td>\n",
       "      <td>973011121A-E-21</td>\n",
       "      <td>None</td>\n",
       "      <td>6B-HV-1215-M01, 973011121A, 121, 6B, FW VALVE ...</td>\n",
       "      <td>(380.34, 163.72, 0.0)</td>\n",
       "    </tr>\n",
       "  </tbody>\n",
       "</table>\n",
       "</div>"
      ],
      "text/plain": [
       "             File     Equipment ID Loop/Stream ID  \\\n",
       "0  973011021C.dxf          021-E-1           None   \n",
       "1  973011111C.dxf         111-E-15           P003   \n",
       "2  973011111C.dxf   973011111-E-16           T001   \n",
       "3  973011111C.dxf   973011111-E-17           M002   \n",
       "4  973011111C.dxf   973011111-E-18       P003-M01   \n",
       "5  973011121C.dxf         021-E-12           W006   \n",
       "6  973011121C.dxf  973011121A-E-18           None   \n",
       "7  973011121C.dxf  973011121A-E-19           None   \n",
       "8  973011121C.dxf  973011121A-E-20           None   \n",
       "9  973011121C.dxf  973011121A-E-21           None   \n",
       "\n",
       "                                         Description               Location  \n",
       "0                                                021     (42.0, 468.0, 0.0)  \n",
       "1  WATER WASH PUMP, IN, Z, BMS, OUT, 111, HEAD, 6...    (516.0, 141.0, 0.0)  \n",
       "2  OF_LEVEL, TOPT, CONS, 973011111, DIAM, FEEDWAT...    (306.0, 234.0, 0.0)  \n",
       "3                       973011111, 6B, DAERATOR, 111    (417.0, 294.0, 0.0)  \n",
       "4                WATER WASH PUMP, 973011111, 111, 6B    (474.0, 138.0, 0.0)  \n",
       "5                        121, 6B, DESUPERHEATER, 021  (248.48, 474.38, 0.0)  \n",
       "6      973011121A, FW VALVE TURBINE PUMP, 6B-HV-1205  (383.36, 129.44, 0.0)  \n",
       "7  973011121A, FW VALVE TURBINE PUMP, 6B-HV-1205-...     (315.0, 90.0, 0.0)  \n",
       "8                             973011121A, 6B-HV-1215    (393.0, 159.0, 0.0)  \n",
       "9  6B-HV-1215-M01, 973011121A, 121, 6B, FW VALVE ...  (380.34, 163.72, 0.0)  "
      ]
     },
     "execution_count": 5,
     "metadata": {},
     "output_type": "execute_result"
    }
   ],
   "source": [
    "df.head(10)"
   ]
  },
  {
   "cell_type": "code",
   "execution_count": 6,
   "id": "51041549-6733-46e6-8a98-b89bdbd930ce",
   "metadata": {},
   "outputs": [
    {
     "name": "stdout",
     "output_type": "stream",
     "text": [
      "✅ Extraction complete. Results saved to recovery_boiler_hex_extraction.csv\n"
     ]
    }
   ],
   "source": [
    "df.to_csv(\"recovery_boiler_hex_extraction.csv\", index=False)\n",
    "print(\"✅ Extraction complete. Results saved to recovery_boiler_hex_extraction.csv\")"
   ]
  },
  {
   "cell_type": "code",
   "execution_count": 7,
   "id": "8f2b302d-2255-415e-9cc8-64b25ab130b9",
   "metadata": {},
   "outputs": [],
   "source": [
    "import networkx as nx\n",
    "import matplotlib.pyplot as plt"
   ]
  },
  {
   "cell_type": "code",
   "execution_count": 8,
   "id": "826d02d8-ee2e-49d7-8b5c-f61be3677ab0",
   "metadata": {},
   "outputs": [],
   "source": [
    "G = nx.Graph()\n",
    "\n",
    "# Example loop dictionary\n",
    "loops = {\n",
    "   \"W052\": [\"311-E-431.01.01\", \"311-E-27\"],\n",
    "   \"W057\": [\"311-E-27\"],\n",
    "   \"F050\": [\"973011301-E-28\"],\n",
    "   \"F055\": [\"973011301-E-29\"]\n",
    "}"
   ]
  },
  {
   "cell_type": "code",
   "execution_count": 9,
   "id": "b577475a-3873-4d2b-87b6-09a9bfe71450",
   "metadata": {},
   "outputs": [
    {
     "data": {
      "image/png": "[encoded data removed]",
      "text/plain": [
       "<Figure size 640x480 with 1 Axes>"
      ]
     },
     "metadata": {},
     "output_type": "display_data"
    }
   ],
   "source": [
    "for loop, hexs in loops.items():\n",
    "    for i in range(len(hexs)):\n",
    "        G.add_node(hexs[i], loop=loop)\n",
    "        if i > 0:\n",
    "            G.add_edge(hexs[i-1], hexs[i], loop=loop)\n",
    "\n",
    "nx.draw(G, with_labels=True, node_color=\"skyblue\", font_size=8, node_size=2000)\n",
    "plt.show()"
   ]
  },
  {
   "cell_type": "code",
   "execution_count": null,
   "id": "e01f33cc-aef1-448a-9867-799802e53e8e",
   "metadata": {},
   "outputs": [],
   "source": []
  },
  {
   "cell_type": "code",
   "execution_count": null,
   "id": "2d5cbe6e-70f3-4869-ae6e-59a2e6e02ce8",
   "metadata": {},
   "outputs": [],
   "source": []
  }
 ],
 "metadata": {
  "kernelspec": {
   "display_name": "Python 3 (ipykernel)",
   "language": "python",
   "name": "python3"
  },
  "language_info": {
   "codemirror_mode": {
    "name": "ipython",
    "version": 3
   },
   "file_extension": ".py",
   "mimetype": "text/x-python",
   "name": "python",
   "nbconvert_exporter": "python",
   "pygments_lexer": "ipython3",
   "version": "3.13.5"
  }
 },
 "nbformat": 4,
 "nbformat_minor": 5
}
